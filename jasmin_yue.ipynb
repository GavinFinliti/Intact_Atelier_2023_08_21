
# step 2: construct 5 new datasets using different seed 

seed = [10, 20, 30, 40, 50]

testdata = [];

for i in range(5):
    
    # Create synthetic dataframe
    df = generate_synthetic_df(10, seed[i])

    # Calculate the cost and price
    cost = models.calculate_cost(df)
    pricing = models.calculate_pricing(df)

    # Calculate the profit on the synthetic dataframe
    df["profit"] = models.calculate_profit(cost, pricing)
    
  
    #convert Matrital_Status to binary; single - 0; non-single - 1; 

    value_to_replace = "Single"
    replacement_value = 0
    df['MARITAL_STATUS'] = df['MARITAL_STATUS'].replace(value_to_replace, replacement_value)

    value_to_replace = "Not_Single"
    replacement_value = 1
    df['MARITAL_STATUS'] = df['MARITAL_STATUS'].replace(value_to_replace, replacement_value)
    
    # take Xs 
    Xs = df.drop('profit', axis = 1)
    
    # apply to group 
    
    #leaf_indexs = reg_tree.apply(Xs, True)
    
    is_leaves, states = get_state(reg_tree)

    #add leaf index 
    X_with_leafs = Xs.copy()
    
    #X_with_leafs["group"] = leaf_indexs
    
    X_with_leafs["group"] = leaf_indexs
    X_with_leafs.reset_index();
    
    testdata.append(X_with_leafs)

# step 3: construct transition matrix 

# Extract initial state from X_with_leaf
initial_state = X_with_leaf['group'].tolist()

# Helper function to compute individual transition matrix between two states
def compute_transition_matrix(initial_state, next_state):
    # Create an empty transition matrix
    unique_states = list(set(initial_state) | set(next_state))
    matrix = pd.DataFrame(0, index=unique_states, columns=unique_states)
   
    # Populate the matrix with transition counts
    for i, initial in enumerate(initial_state):
        matrix.at[initial, next_state[i]] += 1
       
    # Convert counts to probabilities
    matrix = matrix.div(matrix.sum(axis=1), axis=0)
   
    return matrix

# Compute the transition matrices for transitions between X_with_leaf and each dataframe in df_dict_with_groups
transition_matrices = {}
current_state = initial_state

for i in range(len(testdata)):
    next_state = testdata[i]['group'].tolist()
    transition_matrices[i] = compute_transition_matrix(current_state, next_state)
    current_state = next_state  # Set the next state to be the current state for the next loop

# Displaying the transition matrix for the first transition (i.e., from X_with_leaf to df_dict_with_groups[0])
print(transition_matrices[0])


