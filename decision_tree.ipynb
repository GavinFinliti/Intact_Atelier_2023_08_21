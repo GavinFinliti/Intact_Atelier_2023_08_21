{
 "cells": [
  {
   "cell_type": "code",
   "execution_count": 2,
   "metadata": {},
   "outputs": [],
   "source": [
    "from data_gen.models import Models\n",
    "from data_gen.models_dict_v2 import model_dict\n",
    "from data_gen.generate_synthetic_df import generate_synthetic_df\n",
    "import numpy as np\n",
    "\n",
    "SEED = np.random.seed(1)"
   ]
  },
  {
   "cell_type": "code",
   "execution_count": null,
   "metadata": {},
   "outputs": [],
   "source": [
    "# Create synthetic dataframe\n",
    "df = generate_synthetic_df(1000, SEED)\n",
    "\n",
    "# Instantiate an object from the class \"Models\"\n",
    "models = Models(model_dict)\n",
    "\n",
    "# Calculate the cost and price\n",
    "cost = models.calculate_cost(df)\n",
    "pricing = models.calculate_pricing(df)\n",
    "\n",
    "# Calculate the profit on the synthetic dataframe\n",
    "df[\"profit\"] = models.calculate_profit(cost, pricing)"
   ]
  },
  {
   "cell_type": "code",
   "execution_count": null,
   "metadata": {},
   "outputs": [],
   "source": [
    "X = df.loc[:, df.columns != 'profit']\n",
    "Y = df[\"profit\"]"
   ]
  }
 ],
 "metadata": {
  "kernelspec": {
   "display_name": "prac_env",
   "language": "python",
   "name": "python3"
  },
  "language_info": {
   "codemirror_mode": {
    "name": "ipython",
    "version": 3
   },
   "file_extension": ".py",
   "mimetype": "text/x-python",
   "name": "python",
   "nbconvert_exporter": "python",
   "pygments_lexer": "ipython3",
   "version": "3.11.4"
  },
  "orig_nbformat": 4
 },
 "nbformat": 4,
 "nbformat_minor": 2
}
