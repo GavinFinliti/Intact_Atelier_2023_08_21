{
 "cells": [
  {
   "cell_type": "markdown",
   "id": "dd0c0f2a",
   "metadata": {},
   "source": [
    "Author: \n",
    "\n",
    "Andres Garcia Medina \n",
    "Arsene Brice Zotsa Ngoufack\n",
    "Ernest Tafolong \n",
    "Gavin Orok\n",
    "Kylian Ajavon\n",
    "Yasmin Kalhor\n",
    "Yue Zhang\n",
    "Zehai Wen \n",
    "\n",
    "\n",
    "Professor: \n",
    "Philips Gagnon\n",
    "\n",
    "\n",
    "Francois Milot\n",
    "William Morissette \n",
    "\n"
   ]
  }
 ],
 "metadata": {
  "kernelspec": {
   "display_name": "Python 3 (ipykernel)",
   "language": "python",
   "name": "python3"
  },
  "language_info": {
   "codemirror_mode": {
    "name": "ipython",
    "version": 3
   },
   "file_extension": ".py",
   "mimetype": "text/x-python",
   "name": "python",
   "nbconvert_exporter": "python",
   "pygments_lexer": "ipython3",
   "version": "3.9.7"
  }
 },
 "nbformat": 4,
 "nbformat_minor": 5
}
